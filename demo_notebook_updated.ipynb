{
 "cells": [
  {
   "cell_type": "markdown",
   "metadata": {},
   "source": [
    "# Vehicle Knowledge Graph Visualization\n",
    "This notebook demonstrates how to use the Vehicle Knowledge Graph Visualization package."
   ]
  },
  {
   "cell_type": "markdown",
   "metadata": {},
   "source": [
    "## Setup and Installation"
   ]
  },
  {
   "cell_type": "code",
   "execution_count": null,
   "metadata": {},
   "outputs": [],
   "source": [
    "# Install required packages\n",
    "!pip install pandas networkx matplotlib pyvis"
   ]
  },
  {
   "cell_type": "markdown",
   "metadata": {},
   "source": [
    "## Import Libraries"
   ]
  },
  {
   "cell_type": "code",
   "execution_count": null,
   "metadata": {},
   "outputs": [],
   "source": [
    "import os\n",
    "import sys\n",
    "import pandas as pd\n",
    "from src.knowledge_graph_optimized import KnowledgeGraph"
   ]
  },
  {
   "cell_type": "markdown",
   "metadata": {},
   "source": [
    "## Load and Process Data"
   ]
  },
  {
   "cell_type": "code",
   "execution_count": null,
   "metadata": {},
   "outputs": [],
   "source": [
    "# Set up paths\n",
    "data_dir = os.path.join('..', 'data')\n",
    "raw_data_path = os.path.join(data_dir, 'vehicles.csv')\n",
    "processed_data_path = os.path.join(data_dir, 'processed', 'processed_data.csv')\n",
    "\n",
    "# Create directories if they don't exist\n",
    "os.makedirs(os.path.dirname(processed_data_path), exist_ok=True)\n",
    "os.makedirs(os.path.join('..', 'results'), exist_ok=True)\n",
    "\n",
    "print(f\"Data will be loaded from: {os.path.abspath(raw_data_path)}\")"
   ]
  },
  {
   "cell_type": "markdown",
   "metadata": {},
   "source": [
    "## Create and Visualize Knowledge Graph"
   ]
  },
  {
   "cell_type": "code",
   "execution_count": null,
   "metadata": {},
   "outputs": [],
   "source": [
    "# Initialize the knowledge graph\n",
    "kg = KnowledgeGraph()\n",
    "\n",
    "# Load and process data\n",
    "if os.path.exists(processed_data_path):\n",
    "    data = pd.read_csv(processed_data_path)\n",
    "    print(f\"Loaded processed data from {processed_data_path}\")\n",
    "else:\n",
    "    print(\"Processed data not found. Processing raw data...\")\n",
    "    data = pd.read_csv(raw_data_path)\n",
    "    # Add any data processing steps here if needed\n",
    "    data.to_csv(processed_data_path, index=False)\n",
    "    print(f\"Saved processed data to {processed_data_path}\")\n",
    "\n",
    "print(f\"\\nDataset shape: {data.shape}\")\n",
    "data.head()"
   ]
  },
  {
   "cell_type": "markdown",
   "metadata": {},
   "source": [
    "## Add Data to Knowledge Graph"
   ]
  },
  {
   "cell_type": "code",
   "execution_count": null,
   "metadata": {},
   "outputs": [],
   "source": [
    "# Add sample data to the knowledge graph\n",
    "for idx, row in data.head(100).iterrows():  # Process first 100 rows for demo\n",
    "    vehicle_id = f\"vehicle_{int(row['id'])}\" if pd.notna(row.get('id')) else f\"vehicle_{idx}\"\n",
    "    \n",
    "    # Add vehicle node\n",
    "    kg.add_entity(vehicle_id, 'vehicle', row.to_dict())\n",
    "    \n",
    "    # Add relationships (example)\n",
    "    if 'manufacturer' in row and pd.notna(row['manufacturer']):\n",
    "        manu_id = f\"manufacturer_{row['manufacturer'].lower().replace(' ', '_')}\"\n",
    "        kg.add_entity(manu_id, 'manufacturer', {'name': row['manufacturer']})\n",
    "        kg.add_relationship(vehicle_id, 'manufactured_by', manu_id)\n",
    "\n",
    "print(f\"Added {len(kg.get_entities())} entities to the knowledge graph\")"
   ]
  },
  {
   "cell_type": "markdown",
   "metadata": {},
   "source": [
    "## Visualize the Graph"
   ]
  },
  {
   "cell_type": "code",
   "execution_count": null,
   "metadata": {},
   "outputs": [],
   "source": [
    "# Visualize the graph\n",
    "output_file = os.path.join('..', 'results', 'notebook_graph.png')\n",
    "kg.visualize_graph(\n",
    "    layout='spring',\n",
    "    max_nodes=50,  # Limit nodes for better visualization\n",
    "    max_edges=100,  # Limit edges for better visualization\n",
    "    output_file=output_file\n",
    ")\n",
    "\n",
    "print(f\"Graph visualization saved to {os.path.abspath(output_file)}\")"
   ]
  },
  {
   "cell_type": "markdown",
   "metadata": {},
   "source": [
    "## Interactive Visualization"
   ]
  },
  {
   "cell_type": "code",
   "execution_count": null,
   "metadata": {},
   "outputs": [],
   "source": [
    "# Generate interactive visualization\n",
    "interactive_output = os.path.join('..', 'results', 'interactive_graph.html')\n",
    "kg.visualize_graph(\n",
    "    layout='spring',\n",
    "    max_nodes=50,\n",
    "    output_file=interactive_output,\n",
    "    interactive=True\n",
    ")\n",
    "\n",
    "print(f\"Interactive visualization saved to {os.path.abspath(interactive_output)}\")\n",
    "print(\"Open the HTML file in a web browser to view the interactive graph.\")"
   ]
  }
 ],
 "metadata": {
  "kernelspec": {
   "display_name": "Python 3",
   "language": "python",
   "name": "python3"
  },
  "language_info": {
   "codemirror_mode": {
    "name": "ipython",
    "version": 3
   },
   "file_extension": ".py",
   "mimetype": "text/x-python",
   "name": "python",
   "nbconvert_exporter": "python",
   "pygments_lexer": "ipython3",
   "version": "3.8.0"
  }
 },
 "nbformat": 4,
 "nbformat_minor": 4
}
